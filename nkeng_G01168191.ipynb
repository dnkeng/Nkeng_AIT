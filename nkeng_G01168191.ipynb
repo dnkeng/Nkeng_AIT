{
  "nbformat": 4,
  "nbformat_minor": 0,
  "metadata": {
    "kernelspec": {
      "display_name": "Python 3",
      "language": "python",
      "name": "python3"
    },
    "language_info": {
      "codemirror_mode": {
        "name": "ipython",
        "version": 3
      },
      "file_extension": ".py",
      "mimetype": "text/x-python",
      "name": "python",
      "nbconvert_exporter": "python",
      "pygments_lexer": "ipython3",
      "version": "3.7.4"
    },
    "colab": {
      "name": "nkeng_G01168191.ipynb",
      "provenance": [],
      "collapsed_sections": []
    }
  },
  "cells": [
    {
      "cell_type": "code",
      "metadata": {
        "id": "dfCnsQRZUBJJ",
        "colab_type": "code",
        "colab": {
          "base_uri": "https://localhost:8080/",
          "height": 258
        },
        "outputId": "3e5e3ea8-6a15-4362-da08-11ad6bd03887"
      },
      "source": [
        "#Student Name : NKENG DEREK\n",
        "#G Number  : G01168191\n",
        "import matplotlib.pyplot as plt \n",
        "import urllib\n",
        "from bs4 import BeautifulSoup\n",
        "import requests\n",
        "import pandas as pd\n",
        "import csv\n",
        "import xlrd\n",
        "#1. Write Python code using the BeautifulSoup package to generate the csv output file:\n",
        "#a. Parse/Scrap the given URL and organize each book information on the webpage in\n",
        "#following columns and save the organized information in csv file as an output. (30\n",
        "#points)\n",
        "#i. Title\n",
        "#ii. Author(s)\n",
        "#iii. Publisher\n",
        "#iv. Release Date\n",
        "\n",
        "url = requests.get(\"https://repo.vse.gmu.edu/ait/AIT580/580books.html\")\n",
        "\n",
        "extract = BeautifulSoup(url.content, 'html.parser')\n",
        "\n",
        "listitems = extract.find_all('li')\n",
        "\n",
        "filename = \"nkeng_list_of_books.csv\"\n",
        "f = open(filename, \"w\")\n",
        "\n",
        "columns = \"TITLE, AUTHOR, PUBLISHER, RELEASE\\n\"\n",
        "\n",
        "f.write(columns)\n",
        "\n",
        "for entry in listitems:\n",
        "    \n",
        "    TITLE = entry.a.booktitle.text\n",
        "    TITLE = TITLE.replace(\",\", \"|\")\n",
        "    AUTHOR = entry.author.text\n",
        "    AUTHOR = AUTHOR.replace(\",\", \"|\")\n",
        "    PUBLISHER = entry.publisher.text\n",
        "    PUBLISHER = PUBLISHER.replace(\",\", \"|\")\n",
        "    RELEASE = entry.release.text\n",
        "    RELEASE = RELEASE.replace(\",\", \"|\")\n",
        "   \n",
        "    f.write(TITLE + \",\" + AUTHOR + \",\" + PUBLISHER + \",\" + RELEASE + \"\\n\")\n",
        "\n",
        "f.close()\n",
        "\n",
        "for record in soup.findAll('tr'):\n",
        "    Table = \"\"\n",
        "    for data in record.findAll('td'):\n",
        "        Table = Table+ data.text + \",\"\n",
        "    print(Table)\n",
        "    \n",
        "data=pd.read_csv('/Users/nkengderek/nkeng_list_of_books.csv')\n",
        "#2. Read the output csv file from part 1 and write python code to answer the following question. You\n",
        "#can use Pandas Package in python. (20 points)\n",
        "#a. Print the frequency count for publishers (that is, how many books for each publisher).\n",
        "print(\"\\n\")\n",
        "print(data[' PUBLISHER'].value_counts())\n",
        "#2b. Visualize the output of (a) using a chart of your own choice.\n",
        "viz1=data[' PUBLISHER'].value_counts()\n",
        "viz1.plot()\n",
        "viz1.plot(kind ='bar')\n",
        "plt.xlabel('PUBLISHER')\n",
        "plt.ylabel('FREQUENCY')\n",
        "plt.title('visulization for publisher')\n",
        "plt.show()\n",
        "#2c. Print the frequency count for year of publication. \n",
        "DF=data.iloc[:,3].str.split(' ', expand=True)\n",
        "year_freq=df[1].value_counts()\n",
        "print('\\nFrequency count for publication by year\\n')\n",
        "print(year_freq)\n",
        "\n",
        "#2d. Visualize the output of (b) using a chart of your own choice\n",
        "\n",
        "year_freq.plot(kind='line')\n",
        "plt.ylabel('Frequency')\n",
        "plt.xlabel('Year of Publication')\n",
        "plt.title('Frequency count for publication')\n",
        "plt.show()\n",
        "\n",
        "    \n"
      ],
      "execution_count": 1,
      "outputs": [
        {
          "output_type": "error",
          "ename": "NameError",
          "evalue": "ignored",
          "traceback": [
            "\u001b[0;31m---------------------------------------------------------------------------\u001b[0m",
            "\u001b[0;31mNameError\u001b[0m                                 Traceback (most recent call last)",
            "\u001b[0;32m<ipython-input-1-b4ed79ca330b>\u001b[0m in \u001b[0;36m<module>\u001b[0;34m()\u001b[0m\n\u001b[1;32m     43\u001b[0m \u001b[0mf\u001b[0m\u001b[0;34m.\u001b[0m\u001b[0mclose\u001b[0m\u001b[0;34m(\u001b[0m\u001b[0;34m)\u001b[0m\u001b[0;34m\u001b[0m\u001b[0;34m\u001b[0m\u001b[0m\n\u001b[1;32m     44\u001b[0m \u001b[0;34m\u001b[0m\u001b[0m\n\u001b[0;32m---> 45\u001b[0;31m \u001b[0;32mfor\u001b[0m \u001b[0mrecord\u001b[0m \u001b[0;32min\u001b[0m \u001b[0msoup\u001b[0m\u001b[0;34m.\u001b[0m\u001b[0mfindAll\u001b[0m\u001b[0;34m(\u001b[0m\u001b[0;34m'tr'\u001b[0m\u001b[0;34m)\u001b[0m\u001b[0;34m:\u001b[0m\u001b[0;34m\u001b[0m\u001b[0;34m\u001b[0m\u001b[0m\n\u001b[0m\u001b[1;32m     46\u001b[0m     \u001b[0mTable\u001b[0m \u001b[0;34m=\u001b[0m \u001b[0;34m\"\"\u001b[0m\u001b[0;34m\u001b[0m\u001b[0;34m\u001b[0m\u001b[0m\n\u001b[1;32m     47\u001b[0m     \u001b[0;32mfor\u001b[0m \u001b[0mdata\u001b[0m \u001b[0;32min\u001b[0m \u001b[0mrecord\u001b[0m\u001b[0;34m.\u001b[0m\u001b[0mfindAll\u001b[0m\u001b[0;34m(\u001b[0m\u001b[0;34m'td'\u001b[0m\u001b[0;34m)\u001b[0m\u001b[0;34m:\u001b[0m\u001b[0;34m\u001b[0m\u001b[0;34m\u001b[0m\u001b[0m\n",
            "\u001b[0;31mNameError\u001b[0m: name 'soup' is not defined"
          ]
        }
      ]
    },
    {
      "cell_type": "code",
      "metadata": {
        "id": "2FIp-PsmUBJW",
        "colab_type": "code",
        "colab": {}
      },
      "source": [
        ""
      ],
      "execution_count": 0,
      "outputs": []
    }
  ]
}